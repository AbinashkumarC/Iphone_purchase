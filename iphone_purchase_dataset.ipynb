{
 "cells": [
  {
   "cell_type": "markdown",
   "id": "95dbf320-7f96-4f4f-babc-8aabdb25cfd5",
   "metadata": {},
   "source": [
    "### import the libraries"
   ]
  },
  {
   "cell_type": "code",
   "execution_count": 1,
   "id": "81129046-99aa-4a67-93cb-e7cc225299c7",
   "metadata": {},
   "outputs": [
    {
     "name": "stderr",
     "output_type": "stream",
     "text": [
      "Intel(R) Extension for Scikit-learn* enabled (https://github.com/intel/scikit-learn-intelex)\n"
     ]
    }
   ],
   "source": [
    "from timeit import default_timer as timer\n",
    "from sklearn import metrics\n",
    "from sklearn.model_selection import train_test_split\n",
    "import pandas as pd\n",
    "import numpy as np\n",
    "import os\n",
    "import requests\n",
    "import warnings\n",
    "from IPython.display import HTML\n",
    "warnings.filterwarnings('ignore')"
   ]
  },
  {
   "cell_type": "markdown",
   "id": "73b7d71c-57b1-48a0-ad58-6412716b4185",
   "metadata": {},
   "source": [
    "### load the dataset"
   ]
  },
  {
   "cell_type": "code",
   "execution_count": 2,
   "id": "4c61e1c3-2918-4ffa-bb79-e0b0c780e07e",
   "metadata": {},
   "outputs": [],
   "source": [
    "dataset_dir = 'data'\n",
    "dataset_name = 'year_prediction_ms'\n",
    "abinash = pd.read_csv(\"iphone_purchase_records.csv\")\n",
    "os.makedirs(dataset_dir, exist_ok=True)\n",
    "abinash\n",
    "x = abinash[['Age','Purchase Iphone']]\n",
    "y = abinash[['Salary']]\n"
   ]
  },
  {
   "cell_type": "markdown",
   "id": "27667040-1f1a-4a47-b92a-67bac14791f7",
   "metadata": {},
   "source": [
    "### split the dataset"
   ]
  },
  {
   "cell_type": "code",
   "execution_count": 3,
   "id": "36c28035-2212-40c7-8b9f-9262fc44ef87",
   "metadata": {},
   "outputs": [
    {
     "data": {
      "text/plain": [
       "((360, 2), (40, 2), (360, 1), (40, 1))"
      ]
     },
     "execution_count": 3,
     "metadata": {},
     "output_type": "execute_result"
    }
   ],
   "source": [
    "x_train, x_test, y_train, y_test = train_test_split(x, y, test_size=0.1, random_state=0)\n",
    "x_train.shape, x_test.shape, y_train.shape, y_test.shape"
   ]
  },
  {
   "cell_type": "markdown",
   "id": "d756f742-81eb-4de8-8597-d922777d562d",
   "metadata": {},
   "source": [
    "### preprocessing the dataset"
   ]
  },
  {
   "cell_type": "code",
   "execution_count": 4,
   "id": "5d7910f5-90df-4a20-a725-9ca459950100",
   "metadata": {},
   "outputs": [],
   "source": [
    "from sklearn.preprocessing import MinMaxScaler, StandardScaler\n",
    "scaler_x = MinMaxScaler()\n",
    "scaler_y = StandardScaler()"
   ]
  },
  {
   "cell_type": "markdown",
   "id": "b66da574-33ae-4d86-a533-db82ef3f7fde",
   "metadata": {},
   "source": [
    "### patch the dataset"
   ]
  },
  {
   "cell_type": "code",
   "execution_count": 5,
   "id": "4cb5b569-861e-44ab-805e-e3175ff4f715",
   "metadata": {},
   "outputs": [
    {
     "name": "stderr",
     "output_type": "stream",
     "text": [
      "Intel(R) Extension for Scikit-learn* enabled (https://github.com/intel/scikit-learn-intelex)\n"
     ]
    }
   ],
   "source": [
    "from sklearnex import patch_sklearn\n",
    "patch_sklearn()"
   ]
  },
  {
   "cell_type": "markdown",
   "id": "b9951058-07d6-49f2-a2ea-02d2d2db5558",
   "metadata": {},
   "source": [
    "### import the regression model"
   ]
  },
  {
   "cell_type": "code",
   "execution_count": 6,
   "id": "7e2f6048-2330-4816-8980-f5468c53718d",
   "metadata": {},
   "outputs": [
    {
     "data": {
      "text/plain": [
       "'Intel® extension for Scikit-learn time: 0.32 s'"
      ]
     },
     "execution_count": 6,
     "metadata": {},
     "output_type": "execute_result"
    }
   ],
   "source": [
    "from sklearn.linear_model import LinearRegression\n",
    "\n",
    "params = {\n",
    "    \"n_jobs\": -1,\n",
    "    \"copy_X\": False\n",
    "}\n",
    "start = timer()\n",
    "model = LinearRegression(**params).fit(x_train, y_train)\n",
    "train_patched = timer() - start\n",
    "f\"Intel® extension for Scikit-learn time: {train_patched:.2f} s\""
   ]
  },
  {
   "cell_type": "markdown",
   "id": "f9141b95-76f0-4411-a901-ba084b7703c8",
   "metadata": {},
   "source": [
    "### prediction the model "
   ]
  },
  {
   "cell_type": "code",
   "execution_count": 7,
   "id": "d2c6400c-515e-4c80-9a5f-d0f419f2036d",
   "metadata": {},
   "outputs": [
    {
     "data": {
      "text/plain": [
       "'Patched Scikit-learn MSE: 807625205.4537585'"
      ]
     },
     "execution_count": 7,
     "metadata": {},
     "output_type": "execute_result"
    }
   ],
   "source": [
    "y_predict = model.predict(x_test)\n",
    "mse_metric_opt = metrics.mean_squared_error(y_test, y_predict)\n",
    "f'Patched Scikit-learn MSE: {mse_metric_opt}'"
   ]
  },
  {
   "cell_type": "markdown",
   "id": "30c43bcc-bd9e-4c69-aed8-6d62ea23450f",
   "metadata": {},
   "source": [
    "### unpatch the dataset"
   ]
  },
  {
   "cell_type": "code",
   "execution_count": 8,
   "id": "ba005c8f-63f1-45f8-add2-040a58c7794d",
   "metadata": {},
   "outputs": [],
   "source": [
    "from sklearnex import unpatch_sklearn\n",
    "unpatch_sklearn()"
   ]
  },
  {
   "cell_type": "markdown",
   "id": "8d842d2e-6128-4ffe-b9c4-bce9890d49d2",
   "metadata": {},
   "source": [
    "### calculate the time of the model"
   ]
  },
  {
   "cell_type": "code",
   "execution_count": 9,
   "id": "4f4c8c24-4b29-48d5-975b-4f1cba157dec",
   "metadata": {},
   "outputs": [
    {
     "data": {
      "text/plain": [
       "'Original Scikit-learn time: 0.46 s'"
      ]
     },
     "execution_count": 9,
     "metadata": {},
     "output_type": "execute_result"
    }
   ],
   "source": [
    "from sklearn.linear_model import LinearRegression\n",
    "\n",
    "start = timer()\n",
    "model = LinearRegression(**params).fit(x_train, y_train)\n",
    "train_unpatched = timer() - start\n",
    "f\"Original Scikit-learn time: {train_unpatched:.2f} s\""
   ]
  },
  {
   "cell_type": "code",
   "execution_count": null,
   "id": "20989a1d-41a8-4621-964e-c1c24d78aaec",
   "metadata": {},
   "outputs": [],
   "source": []
  }
 ],
 "metadata": {
  "kernelspec": {
   "display_name": "Python 3 (Intel® oneAPI 2023.2)",
   "language": "python",
   "name": "c009-intel_distribution_of_python_3_oneapi-beta05-python"
  },
  "language_info": {
   "codemirror_mode": {
    "name": "ipython",
    "version": 3
   },
   "file_extension": ".py",
   "mimetype": "text/x-python",
   "name": "python",
   "nbconvert_exporter": "python",
   "pygments_lexer": "ipython3",
   "version": "3.9.16"
  }
 },
 "nbformat": 4,
 "nbformat_minor": 5
}
